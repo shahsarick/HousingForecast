{
 "cells": [
  {
   "cell_type": "code",
   "execution_count": 1,
   "metadata": {
    "collapsed": false
   },
   "outputs": [
    {
     "name": "stderr",
     "output_type": "stream",
     "text": [
      "Using Theano backend.\n",
      "Using gpu device 0: Quadro M1000M (CNMeM is enabled with initial size: 80.0% of memory, cuDNN 5105)\n",
      "C:\\Program Files\\Anaconda2\\lib\\site-packages\\sklearn\\cross_validation.py:44: DeprecationWarning: This module was deprecated in version 0.18 in favor of the model_selection module into which all the refactored classes and functions are moved. Also note that the interface of the new CV iterators are different from that of this module. This module will be removed in 0.20.\n",
      "  \"This module will be removed in 0.20.\", DeprecationWarning)\n"
     ]
    },
    {
     "ename": "ImportError",
     "evalue": "No module named xgboost",
     "output_type": "error",
     "traceback": [
      "\u001b[0;31m---------------------------------------------------------------------------\u001b[0m",
      "\u001b[0;31mImportError\u001b[0m                               Traceback (most recent call last)",
      "\u001b[0;32m<ipython-input-1-497a6b61547c>\u001b[0m in \u001b[0;36m<module>\u001b[0;34m()\u001b[0m\n\u001b[1;32m     25\u001b[0m \u001b[1;32mfrom\u001b[0m \u001b[0msklearn\u001b[0m\u001b[1;33m.\u001b[0m\u001b[0mpipeline\u001b[0m \u001b[1;32mimport\u001b[0m \u001b[0mPipeline\u001b[0m\u001b[1;33m\u001b[0m\u001b[0m\n\u001b[1;32m     26\u001b[0m \u001b[1;32mfrom\u001b[0m \u001b[0msklearn\u001b[0m\u001b[1;33m.\u001b[0m\u001b[0mcross_validation\u001b[0m \u001b[1;32mimport\u001b[0m \u001b[0mtrain_test_split\u001b[0m\u001b[1;33m\u001b[0m\u001b[0m\n\u001b[0;32m---> 27\u001b[0;31m \u001b[1;32mfrom\u001b[0m \u001b[0mxgboost\u001b[0m \u001b[1;32mimport\u001b[0m \u001b[0mXGBRegressor\u001b[0m\u001b[1;33m\u001b[0m\u001b[0m\n\u001b[0m\u001b[1;32m     28\u001b[0m \u001b[1;32mfrom\u001b[0m \u001b[0mxgboost\u001b[0m \u001b[1;32mimport\u001b[0m \u001b[0mplot_importance\u001b[0m\u001b[1;33m\u001b[0m\u001b[0m\n\u001b[1;32m     29\u001b[0m \u001b[1;32mfrom\u001b[0m \u001b[0mbs4\u001b[0m \u001b[1;32mimport\u001b[0m \u001b[0mBeautifulSoup\u001b[0m\u001b[1;33m\u001b[0m\u001b[0m\n",
      "\u001b[0;31mImportError\u001b[0m: No module named xgboost"
     ]
    }
   ],
   "source": [
    "#https://github.com/akshatgupta95/homefindr/tree/d671cd98879a1d95e99016243ec48881cc68e723\n",
    "#https://github.com/julialintern/GA_Projects/blob/a3e68c8b1f725d840f733e2919c57728c70d49b6/zillow_Final_project.ipynb\n",
    "#https://github.com/JeremyNixon/algorithms/blob/master/Housing%20Price%20Model%20-%20Stacking.ipynb\n",
    "#https://shankarmsy.github.io/stories/gbrt-sklearn.html\n",
    "#https://dominicbreuker.com/boston_housing/\n",
    "#http://ruichang123.github.io/Regression_analysis_of_house_price_Metis/\n",
    "#http://rasbt.github.io/mlxtend/user_guide/regressor/StackingRegressor/\n",
    "#https://github.com/javierivanov/boston_housing/blob/76df4fedc58f566bfed87decfa2cb956b33b5260/boston_housing.ipynb\n",
    "#https://yalantis.com/blog/predictive-algorithm-for-house-price/\n",
    "#https://www.kaggle.com/humananalog/house-prices-advanced-regression-techniques/xgboost-lasso/output\n",
    "#chrome-extension://klbibkeccnjlkjkiokjodocebajanakg/suspended.html#uri=https://www.kaggle.com/skirmer/house-prices-advanced-regression-techniques/fun-with-real-estate-data/discussion\n",
    "#https://www.kaggle.com/eliotbarr/house-prices-advanced-regression-techniques/stacking-starter/code\n",
    "#https://www.kaggle.com/cttsai/house-prices-advanced-regression-techniques/keras-factorized-trial/run/376160\n",
    "#https://www.kaggle.com/xchmiao/house-prices-advanced-regression-techniques/detailed-data-exploration-in-python/discussionimport pandas as pd\n",
    "#https://github.com/RuiChang123/Regression_for_house_price_estimation/blob/master/linear_regression_house_price.ipynb\n",
    "\n",
    "import numpy as np\n",
    "import re\n",
    "from keras.models import Sequential\n",
    "from keras.layers import Dense\n",
    "from keras.wrappers.scikit_learn import KerasRegressor\n",
    "from sklearn.model_selection import cross_val_score\n",
    "from sklearn.model_selection import KFold\n",
    "from sklearn.preprocessing import StandardScaler\n",
    "from sklearn.pipeline import Pipeline\n",
    "from sklearn.cross_validation import train_test_split\n",
    "from xgboost import XGBRegressor\n",
    "from xgboost import plot_importance\n",
    "from bs4 import BeautifulSoup\n",
    "import time\n",
    "import json\n",
    "from urllib2 import urlopen\n",
    "from sklearn.preprocessing import StandardScaler\n",
    "from sklearn.model_selection import GridSearchCV\n",
    "import matplotlib.pyplot as plt\n",
    "import seaborn as sns\n",
    "from sklearn.metrics import r2_score, mean_squared_error\n",
    "%matplotlib inline"
   ]
  },
  {
   "cell_type": "code",
   "execution_count": 104,
   "metadata": {
    "collapsed": false
   },
   "outputs": [],
   "source": [
    "#!pip install easymoney\n",
    "#!pip install fuzzywuzzy python-Levenshtein"
   ]
  },
  {
   "cell_type": "code",
   "execution_count": 105,
   "metadata": {
    "collapsed": true
   },
   "outputs": [],
   "source": [
    "from easymoney.money import EasyPeasy"
   ]
  },
  {
   "cell_type": "code",
   "execution_count": 123,
   "metadata": {
    "collapsed": true
   },
   "outputs": [],
   "source": [
    "df = pd.read_csv('final_data.csv')"
   ]
  },
  {
   "cell_type": "code",
   "execution_count": 124,
   "metadata": {
    "collapsed": true
   },
   "outputs": [],
   "source": [
    "df['lastsolddate'] = pd.to_datetime(df['lastsolddate'], infer_datetime_format=True )\n",
    "df['lastsolddate'] = df['lastsolddate'].apply(lambda x: x.date())"
   ]
  },
  {
   "cell_type": "code",
   "execution_count": 125,
   "metadata": {
    "collapsed": true
   },
   "outputs": [],
   "source": [
    "def get_housesqft(x):\n",
    "    t = int(re.findall(r'Square feet: (\\d+)', x)[0])\n",
    "    return t\n",
    "def get_lotsqft(x):\n",
    "    t = int(re.findall(r'Lot size: (\\d+)', x)[0])\n",
    "    return t"
   ]
  },
  {
   "cell_type": "code",
   "execution_count": 126,
   "metadata": {
    "collapsed": true
   },
   "outputs": [],
   "source": [
    "df['house_sqft'] = df['info'].apply(get_housesqft)\n",
    "df['lot_sqft'] = df['info'].apply(get_lotsqft)"
   ]
  },
  {
   "cell_type": "code",
   "execution_count": 127,
   "metadata": {
    "collapsed": true
   },
   "outputs": [],
   "source": [
    "df['yearbuilt']= pd.to_datetime(df['yearbuilt'], infer_datetime_format=True )\n",
    "df['yearbuilt'] = df['yearbuilt'].apply(lambda x: x.year)\n",
    "df['year'] = df['lastsolddate'].apply(lambda x: x.year)\n",
    "df['age'] = df['year'] - df['yearbuilt']"
   ]
  },
  {
   "cell_type": "code",
   "execution_count": 128,
   "metadata": {
    "collapsed": false
   },
   "outputs": [],
   "source": [
    "ep = EasyPeasy(fuzzy_threshold=True)\n",
    "def adjusted_price(x, y):\n",
    "    t = ep.normalize(amount=x, region=\"USA\", from_year= int(y), to_year=\"latest\", base_currency=\"USD\")\n",
    "    return t\n",
    "df['adjusted_price'] = np.vectorize(adjusted_price)(df['lastsoldprice'], df['year'])"
   ]
  },
  {
   "cell_type": "code",
   "execution_count": 129,
   "metadata": {
    "collapsed": true
   },
   "outputs": [],
   "source": [
    "df_nonint = df[['year', 'lastsolddate', 'neighborhood', 'usecode', 'yearbuilt', 'zestimate', 'zindexvalue', 'zipcode']]"
   ]
  },
  {
   "cell_type": "code",
   "execution_count": 130,
   "metadata": {
    "collapsed": false
   },
   "outputs": [],
   "source": [
    "df = df.drop(['finishedsqft', 'latitude', 'longitude', 'year', 'lastsolddate', 'neighborhood', 'usecode', 'yearbuilt', 'zestimate', 'zindexvalue', 'zpid', 'zipcode', 'address', 'Unnamed: 0', 'info', 'z_address'], axis=1)"
   ]
  },
  {
   "cell_type": "code",
   "execution_count": 131,
   "metadata": {
    "collapsed": false
   },
   "outputs": [
    {
     "data": {
      "text/html": [
       "<div>\n",
       "<table border=\"1\" class=\"dataframe\">\n",
       "  <thead>\n",
       "    <tr style=\"text-align: right;\">\n",
       "      <th></th>\n",
       "      <th>bathrooms</th>\n",
       "      <th>bedrooms</th>\n",
       "      <th>lastsoldprice</th>\n",
       "      <th>totalrooms</th>\n",
       "      <th>house_sqft</th>\n",
       "      <th>lot_sqft</th>\n",
       "      <th>age</th>\n",
       "      <th>adjusted_price</th>\n",
       "    </tr>\n",
       "  </thead>\n",
       "  <tbody>\n",
       "    <tr>\n",
       "      <th>0</th>\n",
       "      <td>2.0</td>\n",
       "      <td>2.0</td>\n",
       "      <td>1300000.0</td>\n",
       "      <td>4.0</td>\n",
       "      <td>1043</td>\n",
       "      <td>43557</td>\n",
       "      <td>46</td>\n",
       "      <td>1300000.0</td>\n",
       "    </tr>\n",
       "    <tr>\n",
       "      <th>1</th>\n",
       "      <td>1.0</td>\n",
       "      <td>1.0</td>\n",
       "      <td>750000.0</td>\n",
       "      <td>3.0</td>\n",
       "      <td>908</td>\n",
       "      <td>213232</td>\n",
       "      <td>46</td>\n",
       "      <td>750000.0</td>\n",
       "    </tr>\n",
       "    <tr>\n",
       "      <th>2</th>\n",
       "      <td>4.0</td>\n",
       "      <td>3.0</td>\n",
       "      <td>1495000.0</td>\n",
       "      <td>6.0</td>\n",
       "      <td>1425</td>\n",
       "      <td>2496</td>\n",
       "      <td>46</td>\n",
       "      <td>1495000.0</td>\n",
       "    </tr>\n",
       "    <tr>\n",
       "      <th>3</th>\n",
       "      <td>3.0</td>\n",
       "      <td>3.0</td>\n",
       "      <td>2700000.0</td>\n",
       "      <td>10.0</td>\n",
       "      <td>1984</td>\n",
       "      <td>2469</td>\n",
       "      <td>46</td>\n",
       "      <td>2700000.0</td>\n",
       "    </tr>\n",
       "    <tr>\n",
       "      <th>4</th>\n",
       "      <td>3.0</td>\n",
       "      <td>3.0</td>\n",
       "      <td>1530000.0</td>\n",
       "      <td>4.0</td>\n",
       "      <td>924</td>\n",
       "      <td>1750</td>\n",
       "      <td>46</td>\n",
       "      <td>1530000.0</td>\n",
       "    </tr>\n",
       "    <tr>\n",
       "      <th>5</th>\n",
       "      <td>1.0</td>\n",
       "      <td>2.0</td>\n",
       "      <td>460000.0</td>\n",
       "      <td>5.0</td>\n",
       "      <td>1250</td>\n",
       "      <td>3000</td>\n",
       "      <td>46</td>\n",
       "      <td>460000.0</td>\n",
       "    </tr>\n",
       "    <tr>\n",
       "      <th>6</th>\n",
       "      <td>1.0</td>\n",
       "      <td>3.0</td>\n",
       "      <td>532000.0</td>\n",
       "      <td>6.0</td>\n",
       "      <td>1032</td>\n",
       "      <td>2495</td>\n",
       "      <td>46</td>\n",
       "      <td>532000.0</td>\n",
       "    </tr>\n",
       "    <tr>\n",
       "      <th>7</th>\n",
       "      <td>1.0</td>\n",
       "      <td>2.0</td>\n",
       "      <td>1050000.0</td>\n",
       "      <td>5.0</td>\n",
       "      <td>1200</td>\n",
       "      <td>3136</td>\n",
       "      <td>46</td>\n",
       "      <td>1050000.0</td>\n",
       "    </tr>\n",
       "    <tr>\n",
       "      <th>8</th>\n",
       "      <td>3.5</td>\n",
       "      <td>4.0</td>\n",
       "      <td>3500000.0</td>\n",
       "      <td>9.0</td>\n",
       "      <td>2661</td>\n",
       "      <td>2944</td>\n",
       "      <td>46</td>\n",
       "      <td>3500000.0</td>\n",
       "    </tr>\n",
       "    <tr>\n",
       "      <th>9</th>\n",
       "      <td>2.0</td>\n",
       "      <td>3.0</td>\n",
       "      <td>1500000.0</td>\n",
       "      <td>7.0</td>\n",
       "      <td>2016</td>\n",
       "      <td>2885</td>\n",
       "      <td>46</td>\n",
       "      <td>1500000.0</td>\n",
       "    </tr>\n",
       "    <tr>\n",
       "      <th>10</th>\n",
       "      <td>1.0</td>\n",
       "      <td>3.0</td>\n",
       "      <td>848000.0</td>\n",
       "      <td>8.0</td>\n",
       "      <td>1798</td>\n",
       "      <td>2273</td>\n",
       "      <td>46</td>\n",
       "      <td>848000.0</td>\n",
       "    </tr>\n",
       "    <tr>\n",
       "      <th>11</th>\n",
       "      <td>1.0</td>\n",
       "      <td>1.0</td>\n",
       "      <td>1000000.0</td>\n",
       "      <td>4.0</td>\n",
       "      <td>761</td>\n",
       "      <td>41861</td>\n",
       "      <td>46</td>\n",
       "      <td>1000000.0</td>\n",
       "    </tr>\n",
       "    <tr>\n",
       "      <th>12</th>\n",
       "      <td>1.0</td>\n",
       "      <td>1.0</td>\n",
       "      <td>863000.0</td>\n",
       "      <td>4.0</td>\n",
       "      <td>780</td>\n",
       "      <td>18656</td>\n",
       "      <td>45</td>\n",
       "      <td>863000.0</td>\n",
       "    </tr>\n",
       "    <tr>\n",
       "      <th>13</th>\n",
       "      <td>5.0</td>\n",
       "      <td>5.0</td>\n",
       "      <td>4888000.0</td>\n",
       "      <td>12.0</td>\n",
       "      <td>4296</td>\n",
       "      <td>13812</td>\n",
       "      <td>46</td>\n",
       "      <td>4888000.0</td>\n",
       "    </tr>\n",
       "    <tr>\n",
       "      <th>14</th>\n",
       "      <td>2.0</td>\n",
       "      <td>2.0</td>\n",
       "      <td>1000000.0</td>\n",
       "      <td>6.0</td>\n",
       "      <td>1688</td>\n",
       "      <td>3000</td>\n",
       "      <td>46</td>\n",
       "      <td>1000000.0</td>\n",
       "    </tr>\n",
       "    <tr>\n",
       "      <th>15</th>\n",
       "      <td>3.0</td>\n",
       "      <td>4.0</td>\n",
       "      <td>210000.0</td>\n",
       "      <td>7.0</td>\n",
       "      <td>1619</td>\n",
       "      <td>2495</td>\n",
       "      <td>46</td>\n",
       "      <td>210000.0</td>\n",
       "    </tr>\n",
       "  </tbody>\n",
       "</table>\n",
       "</div>"
      ],
      "text/plain": [
       "    bathrooms  bedrooms  lastsoldprice  totalrooms  house_sqft  lot_sqft  age  \\\n",
       "0         2.0       2.0      1300000.0         4.0        1043     43557   46   \n",
       "1         1.0       1.0       750000.0         3.0         908    213232   46   \n",
       "2         4.0       3.0      1495000.0         6.0        1425      2496   46   \n",
       "3         3.0       3.0      2700000.0        10.0        1984      2469   46   \n",
       "4         3.0       3.0      1530000.0         4.0         924      1750   46   \n",
       "5         1.0       2.0       460000.0         5.0        1250      3000   46   \n",
       "6         1.0       3.0       532000.0         6.0        1032      2495   46   \n",
       "7         1.0       2.0      1050000.0         5.0        1200      3136   46   \n",
       "8         3.5       4.0      3500000.0         9.0        2661      2944   46   \n",
       "9         2.0       3.0      1500000.0         7.0        2016      2885   46   \n",
       "10        1.0       3.0       848000.0         8.0        1798      2273   46   \n",
       "11        1.0       1.0      1000000.0         4.0         761     41861   46   \n",
       "12        1.0       1.0       863000.0         4.0         780     18656   45   \n",
       "13        5.0       5.0      4888000.0        12.0        4296     13812   46   \n",
       "14        2.0       2.0      1000000.0         6.0        1688      3000   46   \n",
       "15        3.0       4.0       210000.0         7.0        1619      2495   46   \n",
       "\n",
       "    adjusted_price  \n",
       "0        1300000.0  \n",
       "1         750000.0  \n",
       "2        1495000.0  \n",
       "3        2700000.0  \n",
       "4        1530000.0  \n",
       "5         460000.0  \n",
       "6         532000.0  \n",
       "7        1050000.0  \n",
       "8        3500000.0  \n",
       "9        1500000.0  \n",
       "10        848000.0  \n",
       "11       1000000.0  \n",
       "12        863000.0  \n",
       "13       4888000.0  \n",
       "14       1000000.0  \n",
       "15        210000.0  "
      ]
     },
     "execution_count": 131,
     "metadata": {},
     "output_type": "execute_result"
    }
   ],
   "source": [
    "df.head(16)"
   ]
  },
  {
   "cell_type": "code",
   "execution_count": 132,
   "metadata": {
    "collapsed": false
   },
   "outputs": [],
   "source": [
    "from scipy import stats\n",
    "#remove outliers\n",
    "df = df[(np.abs(stats.zscore(df)) < 3).all(axis=1)]"
   ]
  },
  {
   "cell_type": "code",
   "execution_count": 133,
   "metadata": {
    "collapsed": false
   },
   "outputs": [],
   "source": [
    "df_filter = pd.concat([df, df_nonint], axis=1)"
   ]
  },
  {
   "cell_type": "code",
   "execution_count": 134,
   "metadata": {
    "collapsed": false
   },
   "outputs": [
    {
     "data": {
      "text/plain": [
       "array([   13,    41,    46,    78,    98,   100,   142,   156,   162,\n",
       "         163,   165,   170,   188,   207,   219,   225,   307,   346,\n",
       "         389,   402,   415,   427,   492,   501,   523,   531,   591,\n",
       "         625,   626,   642,   675,   684,   689,   708,   766,   795,\n",
       "         869,   903,   919,   927,   967,   992,  1005,  1051,  1136,\n",
       "        1142,  1194,  1195,  1251,  1345,  1421,  1596,  1610,  1611,\n",
       "        1617,  1649,  1657,  1658,  1677,  1689,  1713,  1745,  1762,\n",
       "        1849,  1851,  1870,  1885,  1909,  1947,  1948,  1950,  1978,\n",
       "        2020,  2040,  2111,  2116,  2142,  2153,  2183,  2274,  2275,\n",
       "        2294,  2298,  2314,  2375,  2387,  2413,  2449,  2450,  2464,\n",
       "        2516,  2529,  2589,  2601,  2602,  2603,  2639,  2644,  2672,\n",
       "        2673,  2684,  2697,  2719,  2720,  2735,  2750,  2763,  2765,\n",
       "        2796,  2813,  2817,  2862,  2867,  2878,  2879,  2887,  3111,\n",
       "        3116,  3122,  3138,  3153,  3225,  3244,  3263,  3275,  3335,\n",
       "        3343,  3354,  3388,  3432,  3456,  3522,  3528,  3551,  3552,\n",
       "        3553,  3669,  3682,  3685,  3720,  3797,  3862,  3888,  3918,\n",
       "        3975,  4083,  4158,  4168,  4211,  4223,  4244,  4385,  4393,\n",
       "        4424,  4449,  4464,  4470,  4530,  4569,  4575,  4597,  4622,\n",
       "        4659,  4693,  4716,  4721,  4737,  4764,  4774,  4807,  4826,\n",
       "        4889,  4938,  4945,  4979,  4997,  5033,  5045,  5093,  5095,\n",
       "        5178,  5182,  5190,  5194,  5198,  5209,  5227,  5242,  5286,\n",
       "        5358,  5387,  5404,  5405,  5408,  5421,  5426,  5443,  5505,\n",
       "        5572,  5575,  5638,  5644,  5646,  5677,  5686,  5689,  5693,\n",
       "        5704,  5707,  5760,  5765,  5789,  5896,  5918,  5983,  5994,\n",
       "        5995,  6005,  6029,  6050,  6056,  6059,  6070,  6100,  6119,\n",
       "        6179,  6203,  6243,  6273,  6291,  6312,  6329,  6336,  6469,\n",
       "        6472,  6510,  6514,  6534,  6544,  6554,  6571,  6597,  6627,\n",
       "        6628,  6632,  6651,  6652,  6665,  6676,  6722,  6730,  6743,\n",
       "        6762,  6766,  6770,  6822,  6834,  6850,  6860,  6891,  6908,\n",
       "        6936,  6955,  6989,  6990,  6991,  7003,  7058,  7064,  7069,\n",
       "        7104,  7106,  7122,  7135,  7137,  7267,  7274,  7363,  7381,\n",
       "        7403,  7423,  7432,  7453,  7521,  7533,  7554,  7563,  7567,\n",
       "        7615,  7617,  7679,  7713,  7734,  7736,  7751,  7793,  7818,\n",
       "        7913,  7924,  7926,  7936,  7938,  7968,  8047,  8065,  8086,\n",
       "        8087,  8166,  8231,  8288,  8300,  8353,  8413,  8435,  8442,\n",
       "        8448,  8455,  8479,  8506,  8567,  8585,  8633,  8650,  8656,\n",
       "        8658,  8721,  8782,  8787,  8791,  8837,  8861,  8863,  8864,\n",
       "        8866,  8875,  8902,  8951,  8964,  8967,  9035,  9065,  9066,\n",
       "        9067,  9126,  9201,  9211,  9222,  9293,  9305,  9377,  9396,\n",
       "        9411,  9492,  9517,  9520,  9547,  9606,  9609,  9632,  9650,\n",
       "        9658,  9675,  9704,  9705,  9722,  9731,  9797,  9809,  9864,\n",
       "        9869,  9886,  9920,  9927,  9933,  9986, 10024, 10159, 10178,\n",
       "       10180, 10181, 10207, 10266, 10282, 10287, 10335, 10342, 10391,\n",
       "       10451, 10476, 10477, 10495, 10499, 10518, 10549, 10563, 10587,\n",
       "       10611, 10635, 10682, 10698, 10702, 10715, 10727, 10738, 10758,\n",
       "       10793, 10805, 10815, 10831, 10849, 10905, 10943, 10957, 11002,\n",
       "       11004, 11023, 11027, 11032, 11045, 11061, 11065, 11083, 11096,\n",
       "       11175, 11180, 11266, 11294, 11299])"
      ]
     },
     "execution_count": 134,
     "metadata": {},
     "output_type": "execute_result"
    }
   ],
   "source": [
    "pd.isnull(df_filter).any(1).nonzero()[0]"
   ]
  },
  {
   "cell_type": "code",
   "execution_count": 135,
   "metadata": {
    "collapsed": true
   },
   "outputs": [],
   "source": [
    "df_filter.dropna(inplace=True)"
   ]
  },
  {
   "cell_type": "code",
   "execution_count": 136,
   "metadata": {
    "collapsed": false
   },
   "outputs": [
    {
     "data": {
      "text/plain": [
       "(10902, 16)"
      ]
     },
     "execution_count": 136,
     "metadata": {},
     "output_type": "execute_result"
    }
   ],
   "source": [
    "df_filter.shape"
   ]
  },
  {
   "cell_type": "code",
   "execution_count": 137,
   "metadata": {
    "collapsed": false
   },
   "outputs": [],
   "source": [
    "df_dummies = pd.get_dummies(df_filter['neighborhood'])\n",
    "df_dummies2 = pd.get_dummies(df_filter['usecode'])\n",
    "df_dummies3 = pd.get_dummies(df_filter['year'])"
   ]
  },
  {
   "cell_type": "code",
   "execution_count": 138,
   "metadata": {
    "collapsed": false
   },
   "outputs": [],
   "source": [
    "df2 = pd.concat([df_filter, df_dummies], axis =1, join_axes=[df_filter.index])\n",
    "df3 = pd.concat([df2, df_dummies2], axis =1, join_axes=[df2.index])\n",
    "df3 = pd.concat([df3, df_dummies3], axis =1, join_axes=[df3.index])"
   ]
  },
  {
   "cell_type": "code",
   "execution_count": 151,
   "metadata": {
    "collapsed": false
   },
   "outputs": [
    {
     "data": {
      "text/plain": [
       "0.37126285514653512"
      ]
     },
     "execution_count": 151,
     "metadata": {},
     "output_type": "execute_result"
    }
   ],
   "source": [
    "r2_score(df3.adjusted_price, df3.zestimate)"
   ]
  },
  {
   "cell_type": "code",
   "execution_count": 101,
   "metadata": {
    "collapsed": true
   },
   "outputs": [],
   "source": [
    "def get_crime_zipcode_mapping():\n",
    "    list_urls = get_all_urls()\n",
    "    ret_dict = {}\n",
    "    for url in list_urls:\n",
    "        wp = urlopen(url)\n",
    "        soup = BeautifulSoup(wp, 'html.parser')\n",
    "        tables = soup.findAll(\"table\")\n",
    "        tags = tables[1].findAll(\"td\")\n",
    "        property_crime = tags[-2].string\n",
    "        violent_crime = tags[-5].string\n",
    "        url_split = url.split(\"/\")\n",
    "        zipcode = url_split[-1]\n",
    "        city_name = url_split[-2]\n",
    "        if (property_crime == None):\n",
    "            final_score = 105.6\n",
    "        else:\n",
    "            final_score = 1.5*float(violent_crime) + float(property_crime)\n",
    "        if (city_name in ret_dict):\n",
    "            (ret_dict[city_name])[zipcode] = final_score\n",
    "        else:\n",
    "            ret_dict[city_name] = {zipcode : final_score}\n",
    "    return ret_dict"
   ]
  },
  {
   "cell_type": "code",
   "execution_count": 102,
   "metadata": {
    "collapsed": true
   },
   "outputs": [],
   "source": [
    "def get_zipcodes_by_city(city_name):\n",
    "    with open('./zipcodes_by_city.json') as data_file:    \n",
    "        data = json.load(data_file)\n",
    "    return data[city_name]"
   ]
  },
  {
   "cell_type": "code",
   "execution_count": 26,
   "metadata": {
    "collapsed": true
   },
   "outputs": [],
   "source": [
    "base_url = \"http://www.bestplaces.net/crime/zip-code/illinois\"\n",
    "city_list = ['Boston','San Francisco', 'Chicago', 'New York']\n",
    "city_list_to_url = {\"San Francisco\": 'san_francisco', \"Boston\": \"boston\", \"Chicago\": \"chicago\", \"New York\": \"new_york\"}"
   ]
  },
  {
   "cell_type": "code",
   "execution_count": 27,
   "metadata": {
    "collapsed": true
   },
   "outputs": [],
   "source": [
    "def get_all_urls():\n",
    "    ret_urls = []\n",
    "    for city in city_list:\n",
    "        city_zipcodes = get_zipcodes_by_city(city)\n",
    "        for zipcode in city_zipcodes:\n",
    "            parameters = \"/{city_code}/{zip_code}\".format(city_code=city_list_to_url[city], zip_code=zipcode)\n",
    "            url = base_url + parameters\n",
    "            ret_urls.append(url)\n",
    "    return ret_urls"
   ]
  },
  {
   "cell_type": "code",
   "execution_count": 28,
   "metadata": {
    "collapsed": false
   },
   "outputs": [],
   "source": [
    "data = get_crime_zipcode_mapping()"
   ]
  },
  {
   "cell_type": "code",
   "execution_count": 142,
   "metadata": {
    "collapsed": true
   },
   "outputs": [],
   "source": [
    "#df_crime.to_csv('df_crime.csv')\n",
    "df_crime = pd.read_csv('df_crime.csv')"
   ]
  },
  {
   "cell_type": "code",
   "execution_count": 143,
   "metadata": {
    "collapsed": false
   },
   "outputs": [
    {
     "data": {
      "text/plain": [
       "False"
      ]
     },
     "execution_count": 143,
     "metadata": {},
     "output_type": "execute_result"
    }
   ],
   "source": [
    "df_crime = pd.DataFrame(data['san_francisco'].items(), columns=['Zipcode', 'Crime'])\n",
    "df_crime['Zipcode'] = df_crime['Zipcode'].astype(np.float)\n",
    "mergeDf = pd.merge(df3, df_crime, left_on = 'zipcode', right_on = 'Zipcode', how = 'left')\n",
    "mergeDf['Crime'].isnull().values.any()"
   ]
  },
  {
   "cell_type": "code",
   "execution_count": 3,
   "metadata": {
    "collapsed": false
   },
   "outputs": [],
   "source": [
    "#mergeDf.to_csv('final_df.csv')\n",
    "mergeDf = pd.read_csv('final_df.csv')"
   ]
  },
  {
   "cell_type": "code",
   "execution_count": 4,
   "metadata": {
    "collapsed": false
   },
   "outputs": [
    {
     "data": {
      "text/plain": [
       "1156036"
      ]
     },
     "execution_count": 4,
     "metadata": {},
     "output_type": "execute_result"
    }
   ],
   "source": [
    "mergeDf.size"
   ]
  },
  {
   "cell_type": "code",
   "execution_count": 9,
   "metadata": {
    "collapsed": false
   },
   "outputs": [],
   "source": [
    "X = mergeDf.drop(['lastsolddate', 'totalrooms', 'usecode',\n",
    "              'yearbuilt', 'zestimate','zindexvalue','zipcode', 'neighborhood', 'adjusted_price', 'year', 'Unnamed: 0'], axis=1)\n",
    "y = mergeDf['adjusted_price']"
   ]
  },
  {
   "cell_type": "code",
   "execution_count": 10,
   "metadata": {
    "collapsed": false
   },
   "outputs": [
    {
     "data": {
      "text/plain": [
       "Index([u'bathrooms', u'bedrooms', u'house_sqft', u'lot_sqft', u'age',\n",
       "       u'Bayview', u'Bernal Heights', u'Buena Vista Park', u'Central Richmond',\n",
       "       u'Central Sunset', u'Central Waterfront - Dogpatch', u'Corona Heights',\n",
       "       u'Cow Hollow', u'Crocker Amazon', u'Daly City', u'Diamond Heights',\n",
       "       u'Downtown', u'Eureka Valley - Dolores Heights - Castro', u'Excelsior',\n",
       "       u'Forest Hill', u'Forest Hill Extension', u'Glen Park',\n",
       "       u'Golden Gate Heights', u'Haight-Ashbury', u'Hayes Valley',\n",
       "       u'Ingleside', u'Ingleside Heights', u'Ingleside Terrace',\n",
       "       u'Inner Parkside', u'Inner Richmond', u'Inner Sunset', u'Lake',\n",
       "       u'Lakeshore', u'Lakeside', u'Little Hollywood', u'Lone Mountain',\n",
       "       u'Lower Pacific Heights', u'Marina', u'Merced Heights',\n",
       "       u'Midtown Terrace', u'Miraloma Park', u'Mission', u'Mission Terrace',\n",
       "       u'Mount Davidson Manor', u'Nob Hill', u'Noe Valley', u'North Beach',\n",
       "       u'North Panhandle', u'North Waterfront', u'Oceanview', u'Outer Mission',\n",
       "       u'Outer Parkside', u'Outer Richmond', u'Outer Sunset',\n",
       "       u'Pacific Heights', u'Parkside', u'Parnassus - Ashbury', u'Portola',\n",
       "       u'Potrero Hill', u'Presidio Heights', u'Russian Hill', u'Sea Cliff',\n",
       "       u'Silver Terrace', u'South Beach', u'South of Market',\n",
       "       u'St. Francis Wood', u'Sunnyside', u'Telegraph Hill', u'Twin Peaks',\n",
       "       u'Van Ness - Civic Center', u'Visitacion Valley', u'West Portal',\n",
       "       u'Western Addition', u'Westwood Highlands', u'Westwood Park',\n",
       "       u'Yerba Buena', u'Apartment', u'Condominium', u'Cooperative', u'Duplex',\n",
       "       u'Miscellaneous', u'Mobile', u'MultiFamily2To4', u'MultiFamily5Plus',\n",
       "       u'SingleFamily', u'Townhouse', u'2010', u'2011', u'2012', u'2013',\n",
       "       u'2014', u'2015', u'2016', u'Zipcode', u'Crime'],\n",
       "      dtype='object')"
      ]
     },
     "execution_count": 10,
     "metadata": {},
     "output_type": "execute_result"
    }
   ],
   "source": [
    "X.columns"
   ]
  },
  {
   "cell_type": "code",
   "execution_count": 14,
   "metadata": {
    "collapsed": false
   },
   "outputs": [],
   "source": [
    "X = X.values\n",
    "y = y.values\n",
    "X1 = X[:,0:95]"
   ]
  },
  {
   "cell_type": "code",
   "execution_count": 15,
   "metadata": {
    "collapsed": true
   },
   "outputs": [],
   "source": [
    "X2 = StandardScaler().fit_transform(X1)"
   ]
  },
  {
   "cell_type": "code",
   "execution_count": 16,
   "metadata": {
    "collapsed": true
   },
   "outputs": [],
   "source": [
    "X_train, X_test, y_train, y_test = train_test_split(X2, y, test_size=0.3)"
   ]
  },
  {
   "cell_type": "code",
   "execution_count": 17,
   "metadata": {
    "collapsed": false
   },
   "outputs": [],
   "source": [
    "def baseline_model():\n",
    "    # create model\n",
    "    model = Sequential()\n",
    "    model.add(Dense(100, input_dim=95, init='normal', activation='relu'))\n",
    "    model.add(Dense(100, init='normal', activation='relu'))\n",
    "    model.add(Dense(1, init='normal'))\n",
    "    # Compile model\n",
    "    model.compile(loss='mean_squared_error', optimizer='adam')\n",
    "    return model\n",
    " \n",
    "# evaluate model with standardized dataset\n",
    "estimator = KerasRegressor(build_fn=baseline_model, nb_epoch=100, batch_size=5, validation_split = .3, verbose =0)"
   ]
  },
  {
   "cell_type": "code",
   "execution_count": 199,
   "metadata": {
    "collapsed": true
   },
   "outputs": [],
   "source": [
    "#estimators = []\n",
    "#estimators.append(('standardize', StandardScaler()))\n",
    "#estimators.append(('mlp', KerasRegressor(build_fn=baseline_model, nb_epoch=100, batch_size=5)))\n",
    "#pipeline = Pipeline(estimators)"
   ]
  },
  {
   "cell_type": "code",
   "execution_count": 200,
   "metadata": {
    "collapsed": false
   },
   "outputs": [],
   "source": [
    "history = estimator.fit(X_train, y_train)"
   ]
  },
  {
   "cell_type": "code",
   "execution_count": 201,
   "metadata": {
    "collapsed": false
   },
   "outputs": [
    {
     "name": "stdout",
     "output_type": "stream",
     "text": [
      "['loss', 'val_loss']\n"
     ]
    }
   ],
   "source": [
    "print(history.history.keys())"
   ]
  },
  {
   "cell_type": "code",
   "execution_count": 202,
   "metadata": {
    "collapsed": false
   },
   "outputs": [
    {
     "data": {
      "text/plain": [
       "0.71043931699998408"
      ]
     },
     "execution_count": 202,
     "metadata": {},
     "output_type": "execute_result"
    }
   ],
   "source": [
    "y_pred = estimator.predict(X_test)\n",
    "r2_score(y_test, y_pred)"
   ]
  },
  {
   "cell_type": "code",
   "execution_count": 47,
   "metadata": {
    "collapsed": false
   },
   "outputs": [
    {
     "data": {
      "image/png": "[encoded data removed]",
      "text/plain": [
       "<matplotlib.figure.Figure at 0x7fe62a2ac050>"
      ]
     },
     "metadata": {},
     "output_type": "display_data"
    }
   ],
   "source": [
    "plt.plot(history.history['loss'])\n",
    "plt.plot(history.history['val_loss'])\n",
    "plt.title('model loss')\n",
    "plt.ylabel('loss')\n",
    "plt.xlabel('epoch')\n",
    "plt.legend(['train', 'test'], loc='upper left')\n",
    "plt.show()\n"
   ]
  },
  {
   "cell_type": "code",
   "execution_count": 48,
   "metadata": {
    "collapsed": true
   },
   "outputs": [],
   "source": [
    "xgb = XGBRegressor(n_estimators = 1000, learning_rate=.1, min_child_weight=1).fit(X_train, y_train)"
   ]
  },
  {
   "cell_type": "code",
   "execution_count": 49,
   "metadata": {
    "collapsed": false
   },
   "outputs": [
    {
     "data": {
      "image/png": "[encoded data removed]",
      "text/plain": [
       "<matplotlib.figure.Figure at 0x7fe62a949050>"
      ]
     },
     "metadata": {},
     "output_type": "display_data"
    }
   ],
   "source": [
    "\n",
    "ax = plot_importance(xgb)\n",
    "fig = ax.figure\n",
    "fig.set_size_inches(5, 15)\n",
    "\n"
   ]
  },
  {
   "cell_type": "code",
   "execution_count": 155,
   "metadata": {
    "collapsed": true
   },
   "outputs": [],
   "source": [
    "y_pred = xgb.predict(X_test)"
   ]
  },
  {
   "cell_type": "code",
   "execution_count": 156,
   "metadata": {
    "collapsed": false
   },
   "outputs": [
    {
     "data": {
      "text/plain": [
       "0.75741698242313138"
      ]
     },
     "execution_count": 156,
     "metadata": {},
     "output_type": "execute_result"
    }
   ],
   "source": [
    "r2_score(y_test, y_pred)"
   ]
  },
  {
   "cell_type": "code",
   "execution_count": 222,
   "metadata": {
    "collapsed": false
   },
   "outputs": [
    {
     "data": {
      "text/plain": [
       "-7.4218854432450651e+22"
      ]
     },
     "execution_count": 222,
     "metadata": {},
     "output_type": "execute_result"
    }
   ],
   "source": [
    "from sklearn.linear_model import LinearRegression\n",
    "lr = LinearRegression().fit(X_train, y_train)\n",
    "y_pred = lr.predict(X_test)\n",
    "r2_score(y_test, y_pred)"
   ]
  },
  {
   "cell_type": "code",
   "execution_count": 54,
   "metadata": {
    "collapsed": true
   },
   "outputs": [],
   "source": [
    "xgb_model = XGBRegressor(n_estimators = 1000)\n",
    "parameters = {\n",
    "    'max_depth':[3, 6, 8],\n",
    "    'min_child_weight':[1, 5, 10],\n",
    "    'learning_rate': [0.1, 0.2, .3],\n",
    "    'subsample': [0.5, 1.0]\n",
    "}\n",
    "clf = GridSearchCV(xgb_model, parameters, cv=2, \n",
    "                   scoring='r2', verbose=2, refit=True)"
   ]
  },
  {
   "cell_type": "code",
   "execution_count": 55,
   "metadata": {
    "collapsed": false
   },
   "outputs": [
    {
     "name": "stdout",
     "output_type": "stream",
     "text": [
      "Fitting 2 folds for each of 54 candidates, totalling 108 fits\n",
      "[CV] subsample=0.5, learning_rate=0.1, max_depth=3, min_child_weight=1 \n",
      "[CV]  subsample=0.5, learning_rate=0.1, max_depth=3, min_child_weight=1 -   0.1s\n",
      "[CV] subsample=0.5, learning_rate=0.1, max_depth=3, min_child_weight=1 \n"
     ]
    },
    {
     "name": "stderr",
     "output_type": "stream",
     "text": [
      "[Parallel(n_jobs=1)]: Done   1 out of   1 | elapsed:    3.8s remaining:    0.0s\n"
     ]
    },
    {
     "name": "stdout",
     "output_type": "stream",
     "text": [
      "[CV]  subsample=0.5, learning_rate=0.1, max_depth=3, min_child_weight=1 -   0.1s\n",
      "[CV] subsample=1.0, learning_rate=0.1, max_depth=3, min_child_weight=1 \n",
      "[CV]  subsample=1.0, learning_rate=0.1, max_depth=3, min_child_weight=1 -   0.1s\n",
      "[CV] subsample=1.0, learning_rate=0.1, max_depth=3, min_child_weight=1 \n",
      "[CV]  subsample=1.0, learning_rate=0.1, max_depth=3, min_child_weight=1 -   0.0s\n",
      "[CV] subsample=0.5, learning_rate=0.1, max_depth=3, min_child_weight=5 \n",
      "[CV]  subsample=0.5, learning_rate=0.1, max_depth=3, min_child_weight=5 -   0.1s\n",
      "[CV] subsample=0.5, learning_rate=0.1, max_depth=3, min_child_weight=5 \n",
      "[CV]  subsample=0.5, learning_rate=0.1, max_depth=3, min_child_weight=5 -   0.1s\n",
      "[CV] subsample=1.0, learning_rate=0.1, max_depth=3, min_child_weight=5 \n",
      "[CV]  subsample=1.0, learning_rate=0.1, max_depth=3, min_child_weight=5 -   0.0s\n",
      "[CV] subsample=1.0, learning_rate=0.1, max_depth=3, min_child_weight=5 \n",
      "[CV]  subsample=1.0, learning_rate=0.1, max_depth=3, min_child_weight=5 -   0.1s\n",
      "[CV] subsample=0.5, learning_rate=0.1, max_depth=3, min_child_weight=10 \n",
      "[CV]  subsample=0.5, learning_rate=0.1, max_depth=3, min_child_weight=10 -   0.1s\n",
      "[CV] subsample=0.5, learning_rate=0.1, max_depth=3, min_child_weight=10 \n",
      "[CV]  subsample=0.5, learning_rate=0.1, max_depth=3, min_child_weight=10 -   0.0s\n",
      "[CV] subsample=1.0, learning_rate=0.1, max_depth=3, min_child_weight=10 \n",
      "[CV]  subsample=1.0, learning_rate=0.1, max_depth=3, min_child_weight=10 -   0.0s\n",
      "[CV] subsample=1.0, learning_rate=0.1, max_depth=3, min_child_weight=10 \n",
      "[CV]  subsample=1.0, learning_rate=0.1, max_depth=3, min_child_weight=10 -   0.1s\n",
      "[CV] subsample=0.5, learning_rate=0.1, max_depth=6, min_child_weight=1 \n",
      "[CV]  subsample=0.5, learning_rate=0.1, max_depth=6, min_child_weight=1 -   0.1s\n",
      "[CV] subsample=0.5, learning_rate=0.1, max_depth=6, min_child_weight=1 \n",
      "[CV]  subsample=0.5, learning_rate=0.1, max_depth=6, min_child_weight=1 -   0.1s\n",
      "[CV] subsample=1.0, learning_rate=0.1, max_depth=6, min_child_weight=1 \n",
      "[CV]  subsample=1.0, learning_rate=0.1, max_depth=6, min_child_weight=1 -   0.1s\n",
      "[CV] subsample=1.0, learning_rate=0.1, max_depth=6, min_child_weight=1 \n",
      "[CV]  subsample=1.0, learning_rate=0.1, max_depth=6, min_child_weight=1 -   0.1s\n",
      "[CV] subsample=0.5, learning_rate=0.1, max_depth=6, min_child_weight=5 \n",
      "[CV]  subsample=0.5, learning_rate=0.1, max_depth=6, min_child_weight=5 -   0.1s\n",
      "[CV] subsample=0.5, learning_rate=0.1, max_depth=6, min_child_weight=5 \n",
      "[CV]  subsample=0.5, learning_rate=0.1, max_depth=6, min_child_weight=5 -   0.1s\n",
      "[CV] subsample=1.0, learning_rate=0.1, max_depth=6, min_child_weight=5 \n",
      "[CV]  subsample=1.0, learning_rate=0.1, max_depth=6, min_child_weight=5 -   0.1s\n",
      "[CV] subsample=1.0, learning_rate=0.1, max_depth=6, min_child_weight=5 \n",
      "[CV]  subsample=1.0, learning_rate=0.1, max_depth=6, min_child_weight=5 -   0.1s\n",
      "[CV] subsample=0.5, learning_rate=0.1, max_depth=6, min_child_weight=10 \n",
      "[CV]  subsample=0.5, learning_rate=0.1, max_depth=6, min_child_weight=10 -   0.1s\n",
      "[CV] subsample=0.5, learning_rate=0.1, max_depth=6, min_child_weight=10 \n",
      "[CV]  subsample=0.5, learning_rate=0.1, max_depth=6, min_child_weight=10 -   0.1s\n",
      "[CV] subsample=1.0, learning_rate=0.1, max_depth=6, min_child_weight=10 \n",
      "[CV]  subsample=1.0, learning_rate=0.1, max_depth=6, min_child_weight=10 -   0.1s\n",
      "[CV] subsample=1.0, learning_rate=0.1, max_depth=6, min_child_weight=10 \n",
      "[CV]  subsample=1.0, learning_rate=0.1, max_depth=6, min_child_weight=10 -   0.1s\n",
      "[CV] subsample=0.5, learning_rate=0.1, max_depth=8, min_child_weight=1 \n",
      "[CV]  subsample=0.5, learning_rate=0.1, max_depth=8, min_child_weight=1 -   0.1s\n",
      "[CV] subsample=0.5, learning_rate=0.1, max_depth=8, min_child_weight=1 \n",
      "[CV]  subsample=0.5, learning_rate=0.1, max_depth=8, min_child_weight=1 -   0.1s\n",
      "[CV] subsample=1.0, learning_rate=0.1, max_depth=8, min_child_weight=1 \n",
      "[CV]  subsample=1.0, learning_rate=0.1, max_depth=8, min_child_weight=1 -   0.1s\n",
      "[CV] subsample=1.0, learning_rate=0.1, max_depth=8, min_child_weight=1 \n",
      "[CV]  subsample=1.0, learning_rate=0.1, max_depth=8, min_child_weight=1 -   0.1s\n",
      "[CV] subsample=0.5, learning_rate=0.1, max_depth=8, min_child_weight=5 \n",
      "[CV]  subsample=0.5, learning_rate=0.1, max_depth=8, min_child_weight=5 -   0.1s\n",
      "[CV] subsample=0.5, learning_rate=0.1, max_depth=8, min_child_weight=5 \n",
      "[CV]  subsample=0.5, learning_rate=0.1, max_depth=8, min_child_weight=5 -   0.1s\n",
      "[CV] subsample=1.0, learning_rate=0.1, max_depth=8, min_child_weight=5 \n",
      "[CV]  subsample=1.0, learning_rate=0.1, max_depth=8, min_child_weight=5 -   0.1s\n",
      "[CV] subsample=1.0, learning_rate=0.1, max_depth=8, min_child_weight=5 \n",
      "[CV]  subsample=1.0, learning_rate=0.1, max_depth=8, min_child_weight=5 -   0.1s\n",
      "[CV] subsample=0.5, learning_rate=0.1, max_depth=8, min_child_weight=10 \n",
      "[CV]  subsample=0.5, learning_rate=0.1, max_depth=8, min_child_weight=10 -   0.1s\n",
      "[CV] subsample=0.5, learning_rate=0.1, max_depth=8, min_child_weight=10 \n",
      "[CV]  subsample=0.5, learning_rate=0.1, max_depth=8, min_child_weight=10 -   0.1s\n",
      "[CV] subsample=1.0, learning_rate=0.1, max_depth=8, min_child_weight=10 \n",
      "[CV]  subsample=1.0, learning_rate=0.1, max_depth=8, min_child_weight=10 -   0.1s\n",
      "[CV] subsample=1.0, learning_rate=0.1, max_depth=8, min_child_weight=10 \n",
      "[CV]  subsample=1.0, learning_rate=0.1, max_depth=8, min_child_weight=10 -   0.1s\n",
      "[CV] subsample=0.5, learning_rate=0.2, max_depth=3, min_child_weight=1 \n",
      "[CV]  subsample=0.5, learning_rate=0.2, max_depth=3, min_child_weight=1 -   0.1s\n",
      "[CV] subsample=0.5, learning_rate=0.2, max_depth=3, min_child_weight=1 \n",
      "[CV]  subsample=0.5, learning_rate=0.2, max_depth=3, min_child_weight=1 -   0.1s\n",
      "[CV] subsample=1.0, learning_rate=0.2, max_depth=3, min_child_weight=1 \n",
      "[CV]  subsample=1.0, learning_rate=0.2, max_depth=3, min_child_weight=1 -   0.1s\n",
      "[CV] subsample=1.0, learning_rate=0.2, max_depth=3, min_child_weight=1 \n",
      "[CV]  subsample=1.0, learning_rate=0.2, max_depth=3, min_child_weight=1 -   0.1s\n",
      "[CV] subsample=0.5, learning_rate=0.2, max_depth=3, min_child_weight=5 \n",
      "[CV]  subsample=0.5, learning_rate=0.2, max_depth=3, min_child_weight=5 -   0.1s\n",
      "[CV] subsample=0.5, learning_rate=0.2, max_depth=3, min_child_weight=5 \n",
      "[CV]  subsample=0.5, learning_rate=0.2, max_depth=3, min_child_weight=5 -   0.1s\n",
      "[CV] subsample=1.0, learning_rate=0.2, max_depth=3, min_child_weight=5 \n",
      "[CV]  subsample=1.0, learning_rate=0.2, max_depth=3, min_child_weight=5 -   0.1s\n",
      "[CV] subsample=1.0, learning_rate=0.2, max_depth=3, min_child_weight=5 \n",
      "[CV]  subsample=1.0, learning_rate=0.2, max_depth=3, min_child_weight=5 -   0.1s\n",
      "[CV] subsample=0.5, learning_rate=0.2, max_depth=3, min_child_weight=10 \n",
      "[CV]  subsample=0.5, learning_rate=0.2, max_depth=3, min_child_weight=10 -   0.1s\n",
      "[CV] subsample=0.5, learning_rate=0.2, max_depth=3, min_child_weight=10 \n",
      "[CV]  subsample=0.5, learning_rate=0.2, max_depth=3, min_child_weight=10 -   0.1s\n",
      "[CV] subsample=1.0, learning_rate=0.2, max_depth=3, min_child_weight=10 \n",
      "[CV]  subsample=1.0, learning_rate=0.2, max_depth=3, min_child_weight=10 -   0.1s\n",
      "[CV] subsample=1.0, learning_rate=0.2, max_depth=3, min_child_weight=10 \n",
      "[CV]  subsample=1.0, learning_rate=0.2, max_depth=3, min_child_weight=10 -   0.1s\n",
      "[CV] subsample=0.5, learning_rate=0.2, max_depth=6, min_child_weight=1 \n",
      "[CV]  subsample=0.5, learning_rate=0.2, max_depth=6, min_child_weight=1 -   0.1s\n",
      "[CV] subsample=0.5, learning_rate=0.2, max_depth=6, min_child_weight=1 \n",
      "[CV]  subsample=0.5, learning_rate=0.2, max_depth=6, min_child_weight=1 -   0.1s\n",
      "[CV] subsample=1.0, learning_rate=0.2, max_depth=6, min_child_weight=1 \n",
      "[CV]  subsample=1.0, learning_rate=0.2, max_depth=6, min_child_weight=1 -   0.1s\n",
      "[CV] subsample=1.0, learning_rate=0.2, max_depth=6, min_child_weight=1 \n",
      "[CV]  subsample=1.0, learning_rate=0.2, max_depth=6, min_child_weight=1 -   0.1s\n",
      "[CV] subsample=0.5, learning_rate=0.2, max_depth=6, min_child_weight=5 \n",
      "[CV]  subsample=0.5, learning_rate=0.2, max_depth=6, min_child_weight=5 -   0.1s\n",
      "[CV] subsample=0.5, learning_rate=0.2, max_depth=6, min_child_weight=5 \n",
      "[CV]  subsample=0.5, learning_rate=0.2, max_depth=6, min_child_weight=5 -   0.1s\n",
      "[CV] subsample=1.0, learning_rate=0.2, max_depth=6, min_child_weight=5 \n",
      "[CV]  subsample=1.0, learning_rate=0.2, max_depth=6, min_child_weight=5 -   0.1s\n",
      "[CV] subsample=1.0, learning_rate=0.2, max_depth=6, min_child_weight=5 \n",
      "[CV]  subsample=1.0, learning_rate=0.2, max_depth=6, min_child_weight=5 -   0.1s\n",
      "[CV] subsample=0.5, learning_rate=0.2, max_depth=6, min_child_weight=10 \n",
      "[CV]  subsample=0.5, learning_rate=0.2, max_depth=6, min_child_weight=10 -   0.1s\n",
      "[CV] subsample=0.5, learning_rate=0.2, max_depth=6, min_child_weight=10 \n",
      "[CV]  subsample=0.5, learning_rate=0.2, max_depth=6, min_child_weight=10 -   0.1s\n",
      "[CV] subsample=1.0, learning_rate=0.2, max_depth=6, min_child_weight=10 \n",
      "[CV]  subsample=1.0, learning_rate=0.2, max_depth=6, min_child_weight=10 -   0.1s\n",
      "[CV] subsample=1.0, learning_rate=0.2, max_depth=6, min_child_weight=10 \n",
      "[CV]  subsample=1.0, learning_rate=0.2, max_depth=6, min_child_weight=10 -   0.1s\n",
      "[CV] subsample=0.5, learning_rate=0.2, max_depth=8, min_child_weight=1 \n",
      "[CV]  subsample=0.5, learning_rate=0.2, max_depth=8, min_child_weight=1 -   0.1s\n",
      "[CV] subsample=0.5, learning_rate=0.2, max_depth=8, min_child_weight=1 \n",
      "[CV]  subsample=0.5, learning_rate=0.2, max_depth=8, min_child_weight=1 -   0.1s\n",
      "[CV] subsample=1.0, learning_rate=0.2, max_depth=8, min_child_weight=1 \n",
      "[CV]  subsample=1.0, learning_rate=0.2, max_depth=8, min_child_weight=1 -   0.1s\n",
      "[CV] subsample=1.0, learning_rate=0.2, max_depth=8, min_child_weight=1 \n",
      "[CV]  subsample=1.0, learning_rate=0.2, max_depth=8, min_child_weight=1 -   0.1s\n",
      "[CV] subsample=0.5, learning_rate=0.2, max_depth=8, min_child_weight=5 \n",
      "[CV]  subsample=0.5, learning_rate=0.2, max_depth=8, min_child_weight=5 -   0.1s\n",
      "[CV] subsample=0.5, learning_rate=0.2, max_depth=8, min_child_weight=5 \n",
      "[CV]  subsample=0.5, learning_rate=0.2, max_depth=8, min_child_weight=5 -   0.1s\n",
      "[CV] subsample=1.0, learning_rate=0.2, max_depth=8, min_child_weight=5 \n",
      "[CV]  subsample=1.0, learning_rate=0.2, max_depth=8, min_child_weight=5 -   0.1s\n",
      "[CV] subsample=1.0, learning_rate=0.2, max_depth=8, min_child_weight=5 \n",
      "[CV]  subsample=1.0, learning_rate=0.2, max_depth=8, min_child_weight=5 -   0.1s\n",
      "[CV] subsample=0.5, learning_rate=0.2, max_depth=8, min_child_weight=10 \n",
      "[CV]  subsample=0.5, learning_rate=0.2, max_depth=8, min_child_weight=10 -   0.1s\n",
      "[CV] subsample=0.5, learning_rate=0.2, max_depth=8, min_child_weight=10 \n",
      "[CV]  subsample=0.5, learning_rate=0.2, max_depth=8, min_child_weight=10 -   0.1s\n",
      "[CV] subsample=1.0, learning_rate=0.2, max_depth=8, min_child_weight=10 \n",
      "[CV]  subsample=1.0, learning_rate=0.2, max_depth=8, min_child_weight=10 -   0.1s\n",
      "[CV] subsample=1.0, learning_rate=0.2, max_depth=8, min_child_weight=10 \n",
      "[CV]  subsample=1.0, learning_rate=0.2, max_depth=8, min_child_weight=10 -   0.1s\n",
      "[CV] subsample=0.5, learning_rate=0.3, max_depth=3, min_child_weight=1 \n",
      "[CV]  subsample=0.5, learning_rate=0.3, max_depth=3, min_child_weight=1 -   0.1s\n",
      "[CV] subsample=0.5, learning_rate=0.3, max_depth=3, min_child_weight=1 \n",
      "[CV]  subsample=0.5, learning_rate=0.3, max_depth=3, min_child_weight=1 -   0.1s\n",
      "[CV] subsample=1.0, learning_rate=0.3, max_depth=3, min_child_weight=1 \n",
      "[CV]  subsample=1.0, learning_rate=0.3, max_depth=3, min_child_weight=1 -   0.1s\n",
      "[CV] subsample=1.0, learning_rate=0.3, max_depth=3, min_child_weight=1 \n",
      "[CV]  subsample=1.0, learning_rate=0.3, max_depth=3, min_child_weight=1 -   0.1s\n",
      "[CV] subsample=0.5, learning_rate=0.3, max_depth=3, min_child_weight=5 \n",
      "[CV]  subsample=0.5, learning_rate=0.3, max_depth=3, min_child_weight=5 -   0.1s\n",
      "[CV] subsample=0.5, learning_rate=0.3, max_depth=3, min_child_weight=5 \n",
      "[CV]  subsample=0.5, learning_rate=0.3, max_depth=3, min_child_weight=5 -   0.1s\n",
      "[CV] subsample=1.0, learning_rate=0.3, max_depth=3, min_child_weight=5 \n",
      "[CV]  subsample=1.0, learning_rate=0.3, max_depth=3, min_child_weight=5 -   0.1s\n",
      "[CV] subsample=1.0, learning_rate=0.3, max_depth=3, min_child_weight=5 \n",
      "[CV]  subsample=1.0, learning_rate=0.3, max_depth=3, min_child_weight=5 -   0.1s\n",
      "[CV] subsample=0.5, learning_rate=0.3, max_depth=3, min_child_weight=10 \n",
      "[CV]  subsample=0.5, learning_rate=0.3, max_depth=3, min_child_weight=10 -   0.1s\n",
      "[CV] subsample=0.5, learning_rate=0.3, max_depth=3, min_child_weight=10 \n",
      "[CV]  subsample=0.5, learning_rate=0.3, max_depth=3, min_child_weight=10 -   0.1s\n",
      "[CV] subsample=1.0, learning_rate=0.3, max_depth=3, min_child_weight=10 \n",
      "[CV]  subsample=1.0, learning_rate=0.3, max_depth=3, min_child_weight=10 -   0.1s\n",
      "[CV] subsample=1.0, learning_rate=0.3, max_depth=3, min_child_weight=10 \n",
      "[CV]  subsample=1.0, learning_rate=0.3, max_depth=3, min_child_weight=10 -   0.1s\n",
      "[CV] subsample=0.5, learning_rate=0.3, max_depth=6, min_child_weight=1 \n",
      "[CV]  subsample=0.5, learning_rate=0.3, max_depth=6, min_child_weight=1 -   0.1s\n",
      "[CV] subsample=0.5, learning_rate=0.3, max_depth=6, min_child_weight=1 \n",
      "[CV]  subsample=0.5, learning_rate=0.3, max_depth=6, min_child_weight=1 -   0.1s\n",
      "[CV] subsample=1.0, learning_rate=0.3, max_depth=6, min_child_weight=1 \n",
      "[CV]  subsample=1.0, learning_rate=0.3, max_depth=6, min_child_weight=1 -   0.1s\n",
      "[CV] subsample=1.0, learning_rate=0.3, max_depth=6, min_child_weight=1 \n",
      "[CV]  subsample=1.0, learning_rate=0.3, max_depth=6, min_child_weight=1 -   0.1s\n",
      "[CV] subsample=0.5, learning_rate=0.3, max_depth=6, min_child_weight=5 \n",
      "[CV]  subsample=0.5, learning_rate=0.3, max_depth=6, min_child_weight=5 -   0.1s\n",
      "[CV] subsample=0.5, learning_rate=0.3, max_depth=6, min_child_weight=5 \n",
      "[CV]  subsample=0.5, learning_rate=0.3, max_depth=6, min_child_weight=5 -   0.1s\n",
      "[CV] subsample=1.0, learning_rate=0.3, max_depth=6, min_child_weight=5 \n",
      "[CV]  subsample=1.0, learning_rate=0.3, max_depth=6, min_child_weight=5 -   0.1s\n",
      "[CV] subsample=1.0, learning_rate=0.3, max_depth=6, min_child_weight=5 \n",
      "[CV]  subsample=1.0, learning_rate=0.3, max_depth=6, min_child_weight=5 -   0.1s\n",
      "[CV] subsample=0.5, learning_rate=0.3, max_depth=6, min_child_weight=10 \n",
      "[CV]  subsample=0.5, learning_rate=0.3, max_depth=6, min_child_weight=10 -   0.1s\n",
      "[CV] subsample=0.5, learning_rate=0.3, max_depth=6, min_child_weight=10 \n",
      "[CV]  subsample=0.5, learning_rate=0.3, max_depth=6, min_child_weight=10 -   0.1s\n",
      "[CV] subsample=1.0, learning_rate=0.3, max_depth=6, min_child_weight=10 \n",
      "[CV]  subsample=1.0, learning_rate=0.3, max_depth=6, min_child_weight=10 -   0.1s\n",
      "[CV] subsample=1.0, learning_rate=0.3, max_depth=6, min_child_weight=10 \n",
      "[CV]  subsample=1.0, learning_rate=0.3, max_depth=6, min_child_weight=10 -   0.1s\n",
      "[CV] subsample=0.5, learning_rate=0.3, max_depth=8, min_child_weight=1 \n",
      "[CV]  subsample=0.5, learning_rate=0.3, max_depth=8, min_child_weight=1 -   0.1s\n",
      "[CV] subsample=0.5, learning_rate=0.3, max_depth=8, min_child_weight=1 \n",
      "[CV]  subsample=0.5, learning_rate=0.3, max_depth=8, min_child_weight=1 -   0.1s\n",
      "[CV] subsample=1.0, learning_rate=0.3, max_depth=8, min_child_weight=1 \n",
      "[CV]  subsample=1.0, learning_rate=0.3, max_depth=8, min_child_weight=1 -   0.1s\n",
      "[CV] subsample=1.0, learning_rate=0.3, max_depth=8, min_child_weight=1 \n",
      "[CV]  subsample=1.0, learning_rate=0.3, max_depth=8, min_child_weight=1 -   0.1s\n",
      "[CV] subsample=0.5, learning_rate=0.3, max_depth=8, min_child_weight=5 \n",
      "[CV]  subsample=0.5, learning_rate=0.3, max_depth=8, min_child_weight=5 -   0.1s\n",
      "[CV] subsample=0.5, learning_rate=0.3, max_depth=8, min_child_weight=5 \n",
      "[CV]  subsample=0.5, learning_rate=0.3, max_depth=8, min_child_weight=5 -   0.1s\n",
      "[CV] subsample=1.0, learning_rate=0.3, max_depth=8, min_child_weight=5 \n",
      "[CV]  subsample=1.0, learning_rate=0.3, max_depth=8, min_child_weight=5 -   0.1s\n",
      "[CV] subsample=1.0, learning_rate=0.3, max_depth=8, min_child_weight=5 \n",
      "[CV]  subsample=1.0, learning_rate=0.3, max_depth=8, min_child_weight=5 -   0.1s\n",
      "[CV] subsample=0.5, learning_rate=0.3, max_depth=8, min_child_weight=10 \n",
      "[CV]  subsample=0.5, learning_rate=0.3, max_depth=8, min_child_weight=10 -   0.1s\n",
      "[CV] subsample=0.5, learning_rate=0.3, max_depth=8, min_child_weight=10 \n",
      "[CV]  subsample=0.5, learning_rate=0.3, max_depth=8, min_child_weight=10 -   0.1s\n",
      "[CV] subsample=1.0, learning_rate=0.3, max_depth=8, min_child_weight=10 \n",
      "[CV]  subsample=1.0, learning_rate=0.3, max_depth=8, min_child_weight=10 -   0.1s\n",
      "[CV] subsample=1.0, learning_rate=0.3, max_depth=8, min_child_weight=10 \n",
      "[CV]  subsample=1.0, learning_rate=0.3, max_depth=8, min_child_weight=10 -   0.1s\n"
     ]
    },
    {
     "name": "stderr",
     "output_type": "stream",
     "text": [
      "[Parallel(n_jobs=1)]: Done 108 out of 108 | elapsed: 11.3min finished\n"
     ]
    },
    {
     "data": {
      "text/plain": [
       "GridSearchCV(cv=2, error_score='raise',\n",
       "       estimator=XGBRegressor(base_score=0.5, colsample_bylevel=1, colsample_bytree=1, gamma=0,\n",
       "       learning_rate=0.1, max_delta_step=0, max_depth=3,\n",
       "       min_child_weight=1, missing=None, n_estimators=1000, nthread=-1,\n",
       "       objective='reg:linear', reg_alpha=0, reg_lambda=1,\n",
       "       scale_pos_weight=1, seed=0, silent=True, subsample=1),\n",
       "       fit_params={}, iid=True, n_jobs=1,\n",
       "       param_grid={'subsample': [0.5, 1.0], 'learning_rate': [0.1, 0.2, 0.3], 'max_depth': [3, 6, 8], 'min_child_weight': [1, 5, 10]},\n",
       "       pre_dispatch='2*n_jobs', refit=True, return_train_score=True,\n",
       "       scoring='r2', verbose=2)"
      ]
     },
     "execution_count": 55,
     "metadata": {},
     "output_type": "execute_result"
    }
   ],
   "source": [
    "clf.fit(X_train, y_train)"
   ]
  },
  {
   "cell_type": "code",
   "execution_count": 60,
   "metadata": {
    "collapsed": false
   },
   "outputs": [
    {
     "name": "stdout",
     "output_type": "stream",
     "text": [
      "Fitting 5 folds for each of 5 candidates, totalling 25 fits\n",
      "[CV] gamma=0.0 .......................................................\n",
      "[CV] .............................................. gamma=0.0 -   0.0s\n",
      "[CV] gamma=0.0 .......................................................\n"
     ]
    },
    {
     "name": "stderr",
     "output_type": "stream",
     "text": [
      "[Parallel(n_jobs=1)]: Done   1 out of   1 | elapsed:    4.8s remaining:    0.0s\n"
     ]
    },
    {
     "name": "stdout",
     "output_type": "stream",
     "text": [
      "[CV] .............................................. gamma=0.0 -   0.0s\n",
      "[CV] gamma=0.0 .......................................................\n",
      "[CV] .............................................. gamma=0.0 -   0.0s\n",
      "[CV] gamma=0.0 .......................................................\n",
      "[CV] .............................................. gamma=0.0 -   0.0s\n",
      "[CV] gamma=0.0 .......................................................\n",
      "[CV] .............................................. gamma=0.0 -   0.0s\n",
      "[CV] gamma=0.1 .......................................................\n",
      "[CV] .............................................. gamma=0.1 -   0.0s\n",
      "[CV] gamma=0.1 .......................................................\n",
      "[CV] .............................................. gamma=0.1 -   0.0s\n",
      "[CV] gamma=0.1 .......................................................\n",
      "[CV] .............................................. gamma=0.1 -   0.0s\n",
      "[CV] gamma=0.1 .......................................................\n",
      "[CV] .............................................. gamma=0.1 -   0.0s\n",
      "[CV] gamma=0.1 .......................................................\n",
      "[CV] .............................................. gamma=0.1 -   0.0s\n",
      "[CV] gamma=0.2 .......................................................\n",
      "[CV] .............................................. gamma=0.2 -   0.0s\n",
      "[CV] gamma=0.2 .......................................................\n",
      "[CV] .............................................. gamma=0.2 -   0.0s\n",
      "[CV] gamma=0.2 .......................................................\n",
      "[CV] .............................................. gamma=0.2 -   0.0s\n",
      "[CV] gamma=0.2 .......................................................\n",
      "[CV] .............................................. gamma=0.2 -   0.0s\n",
      "[CV] gamma=0.2 .......................................................\n",
      "[CV] .............................................. gamma=0.2 -   0.0s\n",
      "[CV] gamma=0.3 .......................................................\n",
      "[CV] .............................................. gamma=0.3 -   0.0s\n",
      "[CV] gamma=0.3 .......................................................\n",
      "[CV] .............................................. gamma=0.3 -   0.0s\n",
      "[CV] gamma=0.3 .......................................................\n",
      "[CV] .............................................. gamma=0.3 -   0.0s\n",
      "[CV] gamma=0.3 .......................................................\n",
      "[CV] .............................................. gamma=0.3 -   0.0s\n",
      "[CV] gamma=0.3 .......................................................\n",
      "[CV] .............................................. gamma=0.3 -   0.0s\n",
      "[CV] gamma=0.4 .......................................................\n",
      "[CV] .............................................. gamma=0.4 -   0.0s\n",
      "[CV] gamma=0.4 .......................................................\n",
      "[CV] .............................................. gamma=0.4 -   0.0s\n",
      "[CV] gamma=0.4 .......................................................\n",
      "[CV] .............................................. gamma=0.4 -   0.0s\n",
      "[CV] gamma=0.4 .......................................................\n",
      "[CV] .............................................. gamma=0.4 -   0.0s\n",
      "[CV] gamma=0.4 .......................................................\n",
      "[CV] .............................................. gamma=0.4 -   0.0s\n"
     ]
    },
    {
     "name": "stderr",
     "output_type": "stream",
     "text": [
      "[Parallel(n_jobs=1)]: Done  25 out of  25 | elapsed:  2.0min finished\n"
     ]
    },
    {
     "data": {
      "text/plain": [
       "GridSearchCV(cv=5, error_score='raise',\n",
       "       estimator=XGBRegressor(base_score=0.5, colsample_bylevel=1, colsample_bytree=1, gamma=0,\n",
       "       learning_rate=0.1, max_delta_step=0, max_depth=3,\n",
       "       min_child_weight=1, missing=None, n_estimators=1000, nthread=-1,\n",
       "       objective='reg:linear', reg_alpha=0, reg_lambda=1,\n",
       "       scale_pos_weight=1, seed=0, silent=True, subsample=1),\n",
       "       fit_params={}, iid=True, n_jobs=1,\n",
       "       param_grid={'gamma': [0.0, 0.1, 0.2, 0.3, 0.4]},\n",
       "       pre_dispatch='2*n_jobs', refit=True, return_train_score=True,\n",
       "       scoring='r2', verbose=2)"
      ]
     },
     "execution_count": 60,
     "metadata": {},
     "output_type": "execute_result"
    }
   ],
   "source": [
    "xgb_model = XGBRegressor(n_estimators = 1000)\n",
    "parameters = {\n",
    "    'gamma':[i/10.0 for i in range(0,5)]\n",
    "}\n",
    "clf = GridSearchCV(xgb_model, parameters, cv=5, \n",
    "                   scoring='r2', verbose=2, refit=True)\n",
    "clf.fit(X_train, y_train)"
   ]
  },
  {
   "cell_type": "code",
   "execution_count": 61,
   "metadata": {
    "collapsed": false
   },
   "outputs": [
    {
     "data": {
      "text/plain": [
       "{'gamma': 0.0}"
      ]
     },
     "execution_count": 61,
     "metadata": {},
     "output_type": "execute_result"
    }
   ],
   "source": [
    "clf.best_params_\n"
   ]
  },
  {
   "cell_type": "code",
   "execution_count": 154,
   "metadata": {
    "collapsed": false
   },
   "outputs": [
    {
     "data": {
      "text/plain": [
       "0.75741698242313138"
      ]
     },
     "execution_count": 154,
     "metadata": {},
     "output_type": "execute_result"
    }
   ],
   "source": [
    "y_pred2 = clf.predict(X_test)\n",
    "r2_score(y_test, y_pred)"
   ]
  },
  {
   "cell_type": "code",
   "execution_count": 73,
   "metadata": {
    "collapsed": false
   },
   "outputs": [
    {
     "data": {
      "text/plain": [
       "<Container object of 2 artists>"
      ]
     },
     "execution_count": 73,
     "metadata": {},
     "output_type": "execute_result"
    },
    {
     "data": {
      "image/png": "[encoded data removed]",
      "text/plain": [
       "<matplotlib.figure.Figure at 0x7fe6389a6150>"
      ]
     },
     "metadata": {},
     "output_type": "display_data"
    }
   ],
   "source": [
    "plt.bar(range(2), [130933298114.07002 ,105321334861.76054 ])"
   ]
  },
  {
   "cell_type": "code",
   "execution_count": 157,
   "metadata": {
    "collapsed": false
   },
   "outputs": [
    {
     "data": {
      "text/plain": [
       "numpy.ndarray"
      ]
     },
     "execution_count": 157,
     "metadata": {},
     "output_type": "execute_result"
    }
   ],
   "source": [
    "type(y_pred)"
   ]
  },
  {
   "cell_type": "code",
   "execution_count": 173,
   "metadata": {
    "collapsed": false
   },
   "outputs": [],
   "source": [
    "arr = np.array([y_pred, y_pred2, y_test]) "
   ]
  },
  {
   "cell_type": "code",
   "execution_count": 170,
   "metadata": {
    "collapsed": false
   },
   "outputs": [
    {
     "data": {
      "text/plain": [
       "3272"
      ]
     },
     "execution_count": 170,
     "metadata": {},
     "output_type": "execute_result"
    }
   ],
   "source": [
    "len(y_pred)"
   ]
  },
  {
   "cell_type": "code",
   "execution_count": 171,
   "metadata": {
    "collapsed": false
   },
   "outputs": [],
   "source": [
    "avg = arr.mean(axis=0)"
   ]
  },
  {
   "cell_type": "code",
   "execution_count": 172,
   "metadata": {
    "collapsed": false
   },
   "outputs": [
    {
     "data": {
      "text/plain": [
       "0.75354431006218625"
      ]
     },
     "execution_count": 172,
     "metadata": {},
     "output_type": "execute_result"
    }
   ],
   "source": [
    "r2_score(y_test, avg)"
   ]
  },
  {
   "cell_type": "code",
   "execution_count": 21,
   "metadata": {
    "collapsed": false
   },
   "outputs": [],
   "source": [
    "from mlxtend.regressor import StackingRegressor\n",
    "from sklearn.linear_model import LinearRegression"
   ]
  },
  {
   "cell_type": "code",
   "execution_count": 31,
   "metadata": {
    "collapsed": false
   },
   "outputs": [],
   "source": [
    "xgb = XGBRegressor(n_estimators = 1000, learning_rate=.1, min_child_weight=1)\n",
    "estimator = KerasRegressor(build_fn=baseline_model, nb_epoch=100, batch_size=5, verbose =0)\n",
    "lr = LinearRegression()"
   ]
  },
  {
   "cell_type": "code",
   "execution_count": 32,
   "metadata": {
    "collapsed": false
   },
   "outputs": [
    {
     "data": {
      "text/plain": [
       "StackingRegressor(meta_regressor=LinearRegression(copy_X=True, fit_intercept=True, n_jobs=1, normalize=False),\n",
       "         regressors=[XGBRegressor(base_score=0.5, colsample_bylevel=1, colsample_bytree=1, gamma=0,\n",
       "       learning_rate=0.1, max_delta_step=0, max_depth=3,\n",
       "       min_child_weight=1, missing=None, n_estimators=1000, nthread=-1,\n",
       "       objective='reg:linear', reg_alpha=0, reg_lambda=1,\n",
       "       scale_pos_weight=1, seed=0, silent=True, subsample=1), <keras.wrappers.scikit_learn.KerasRegressor object at 0x7fefd4d5dd90>],\n",
       "         verbose=0)"
      ]
     },
     "execution_count": 32,
     "metadata": {},
     "output_type": "execute_result"
    }
   ],
   "source": [
    "stregr = StackingRegressor(regressors=[xgb, estimator], \n",
    "                           meta_regressor=lr)\n",
    "stregr.fit(X_train, y_train)"
   ]
  },
  {
   "cell_type": "code",
   "execution_count": 33,
   "metadata": {
    "collapsed": false
   },
   "outputs": [
    {
     "data": {
      "text/plain": [
       "0.72804803759416403"
      ]
     },
     "execution_count": 33,
     "metadata": {},
     "output_type": "execute_result"
    }
   ],
   "source": [
    "y_pred = stregr.predict(X_test)\n",
    "r2_score(y_test, y_pred)"
   ]
  },
  {
   "cell_type": "code",
   "execution_count": 28,
   "metadata": {
    "collapsed": false
   },
   "outputs": [],
   "source": [
    "from sklearn.linear_model import LassoLars"
   ]
  },
  {
   "cell_type": "code",
   "execution_count": 29,
   "metadata": {
    "collapsed": false
   },
   "outputs": [
    {
     "data": {
      "text/plain": [
       "StackingRegressor(meta_regressor=LassoLars(alpha=1.0, copy_X=True, eps=2.2204460492503131e-16,\n",
       "     fit_intercept=True, fit_path=True, max_iter=500, normalize=True,\n",
       "     positive=False, precompute='auto', verbose=False),\n",
       "         regressors=[XGBRegressor(base_score=0.5, colsample_bylevel=1, colsample_bytree=1, gamma=0,\n",
       "       learning_rate=0.1, max_delta_step=0, max_depth=3,\n",
       "       min_child_weight=5, missing=None, n_estimators=1000, nthread=-1,\n",
       "       objective='reg:linear', reg_alpha=0, reg_lambda=1,\n",
       "       scale_pos_weight=1, seed=0, silent=True, subsample=1), <keras.wrappers.scikit_learn.KerasRegressor object at 0x7feffbffcc50>],\n",
       "         verbose=0)"
      ]
     },
     "execution_count": 29,
     "metadata": {},
     "output_type": "execute_result"
    }
   ],
   "source": [
    "ll = LassoLars()\n",
    "stregr = StackingRegressor(regressors=[xgb, estimator], \n",
    "                           meta_regressor=ll)\n",
    "stregr.fit(X_train, y_train)"
   ]
  },
  {
   "cell_type": "code",
   "execution_count": 30,
   "metadata": {
    "collapsed": false
   },
   "outputs": [
    {
     "data": {
      "text/plain": [
       "0.73047521944132443"
      ]
     },
     "execution_count": 30,
     "metadata": {},
     "output_type": "execute_result"
    }
   ],
   "source": [
    "y_pred = stregr.predict(X_test)\n",
    "r2_score(y_test, y_pred)"
   ]
  },
  {
   "cell_type": "code",
   "execution_count": null,
   "metadata": {
    "collapsed": true
   },
   "outputs": [],
   "source": []
  }
 ],
 "metadata": {
  "anaconda-cloud": {},
  "kernelspec": {
   "display_name": "Python 2",
   "language": "python",
   "name": "python2"
  },
  "language_info": {
   "codemirror_mode": {
    "name": "ipython",
    "version": 2
   },
   "file_extension": ".py",
   "mimetype": "text/x-python",
   "name": "python",
   "nbconvert_exporter": "python",
   "pygments_lexer": "ipython2",
   "version": "2.7.13"
  }
 },
 "nbformat": 4,
 "nbformat_minor": 1
}
